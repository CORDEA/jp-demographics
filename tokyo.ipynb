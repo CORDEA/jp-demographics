{
 "cells": [
  {
   "cell_type": "markdown",
   "source": [
    "# Tokyo demographics"
   ],
   "metadata": {
    "collapsed": false
   },
   "id": "bf10d4e79b84fe17"
  },
  {
   "cell_type": "code",
   "outputs": [],
   "source": [
    "import os\n",
    "\n",
    "APP_ID = os.environ['APP_ID']\n",
    "LANG = 'J'\n",
    "BASE_URL = 'https://api.e-stat.go.jp/rest/3.0/app/json/getStatsData?appId={id}&lang={lang}'.format(id=APP_ID,\n",
    "                                                                                                    lang=LANG)"
   ],
   "metadata": {
    "collapsed": true,
    "ExecuteTime": {
     "end_time": "2024-02-23T04:01:17.614766Z",
     "start_time": "2024-02-23T04:01:17.612581Z"
    }
   },
   "id": "initial_id",
   "execution_count": 1
  },
  {
   "cell_type": "code",
   "outputs": [
    {
     "data": {
      "text/plain": "      Type Area       Year  Unit      Value\n0      出生数   全国 2021-01-01     人  811622.00\n1      出生数   全国 2020-01-01     人  840835.00\n2      出生数   全国 2019-01-01     人  865239.00\n3      出生数   全国 2018-01-01     人  918400.00\n4      出生数   全国 2017-01-01     人  946146.00\n...    ...  ...        ...   ...        ...\n29815  離婚率  熊本市 2019-01-01  人口千対       1.79\n29816  離婚率  熊本市 2018-01-01  人口千対       1.76\n29817  離婚率  熊本市 2017-01-01  人口千対       1.62\n29818  離婚率  熊本市 2016-01-01  人口千対       1.70\n29819  離婚率  熊本市 2015-01-01  人口千対       1.96\n\n[29820 rows x 5 columns]",
      "text/html": "<div>\n<style scoped>\n    .dataframe tbody tr th:only-of-type {\n        vertical-align: middle;\n    }\n\n    .dataframe tbody tr th {\n        vertical-align: top;\n    }\n\n    .dataframe thead th {\n        text-align: right;\n    }\n</style>\n<table border=\"1\" class=\"dataframe\">\n  <thead>\n    <tr style=\"text-align: right;\">\n      <th></th>\n      <th>Type</th>\n      <th>Area</th>\n      <th>Year</th>\n      <th>Unit</th>\n      <th>Value</th>\n    </tr>\n  </thead>\n  <tbody>\n    <tr>\n      <th>0</th>\n      <td>出生数</td>\n      <td>全国</td>\n      <td>2021-01-01</td>\n      <td>人</td>\n      <td>811622.00</td>\n    </tr>\n    <tr>\n      <th>1</th>\n      <td>出生数</td>\n      <td>全国</td>\n      <td>2020-01-01</td>\n      <td>人</td>\n      <td>840835.00</td>\n    </tr>\n    <tr>\n      <th>2</th>\n      <td>出生数</td>\n      <td>全国</td>\n      <td>2019-01-01</td>\n      <td>人</td>\n      <td>865239.00</td>\n    </tr>\n    <tr>\n      <th>3</th>\n      <td>出生数</td>\n      <td>全国</td>\n      <td>2018-01-01</td>\n      <td>人</td>\n      <td>918400.00</td>\n    </tr>\n    <tr>\n      <th>4</th>\n      <td>出生数</td>\n      <td>全国</td>\n      <td>2017-01-01</td>\n      <td>人</td>\n      <td>946146.00</td>\n    </tr>\n    <tr>\n      <th>...</th>\n      <td>...</td>\n      <td>...</td>\n      <td>...</td>\n      <td>...</td>\n      <td>...</td>\n    </tr>\n    <tr>\n      <th>29815</th>\n      <td>離婚率</td>\n      <td>熊本市</td>\n      <td>2019-01-01</td>\n      <td>人口千対</td>\n      <td>1.79</td>\n    </tr>\n    <tr>\n      <th>29816</th>\n      <td>離婚率</td>\n      <td>熊本市</td>\n      <td>2018-01-01</td>\n      <td>人口千対</td>\n      <td>1.76</td>\n    </tr>\n    <tr>\n      <th>29817</th>\n      <td>離婚率</td>\n      <td>熊本市</td>\n      <td>2017-01-01</td>\n      <td>人口千対</td>\n      <td>1.62</td>\n    </tr>\n    <tr>\n      <th>29818</th>\n      <td>離婚率</td>\n      <td>熊本市</td>\n      <td>2016-01-01</td>\n      <td>人口千対</td>\n      <td>1.70</td>\n    </tr>\n    <tr>\n      <th>29819</th>\n      <td>離婚率</td>\n      <td>熊本市</td>\n      <td>2015-01-01</td>\n      <td>人口千対</td>\n      <td>1.96</td>\n    </tr>\n  </tbody>\n</table>\n<p>29820 rows × 5 columns</p>\n</div>"
     },
     "execution_count": 6,
     "metadata": {},
     "output_type": "execute_result"
    }
   ],
   "source": [
    "import requests\n",
    "import pandas\n",
    "from datetime import datetime\n",
    "\n",
    "json = requests.get('{url}&statsDataId=0003411563'.format(url=BASE_URL)).json()\n",
    "stats = json['GET_STATS_DATA']['STATISTICAL_DATA']\n",
    "labels = stats['CLASS_INF']['CLASS_OBJ']\n",
    "labelMap = {label['@id']: {l['@code']: l['@name'] for l in label['CLASS']} for label in labels}\n",
    "data = stats['DATA_INF']['VALUE']\n",
    "for d in data:\n",
    "    d['@cat01'] = labelMap['cat01'][d['@cat01']]\n",
    "    d['@area'] = labelMap['area'][d['@area']]\n",
    "    d['@time'] = datetime.strptime(labelMap['time'][d['@time']], '%Y年')\n",
    "df = pandas.DataFrame(data)\n",
    "df = df.rename(columns={'@cat01': 'Type', '@area': 'Area', '@time': 'Year', '@unit': 'Unit', '$': 'Value'})\n",
    "df['Value'] = df['Value'].apply(pandas.to_numeric, errors='coerce')\n",
    "df"
   ],
   "metadata": {
    "collapsed": false,
    "ExecuteTime": {
     "end_time": "2024-02-23T04:06:38.671494Z",
     "start_time": "2024-02-23T04:06:37.127586Z"
    }
   },
   "id": "2366b575ecc9ab2f",
   "execution_count": 6
  },
  {
   "cell_type": "code",
   "outputs": [],
   "source": [],
   "metadata": {
    "collapsed": false
   },
   "id": "e3d8b7bd7e99d8ab"
  }
 ],
 "metadata": {
  "kernelspec": {
   "display_name": "Python 3",
   "language": "python",
   "name": "python3"
  },
  "language_info": {
   "codemirror_mode": {
    "name": "ipython",
    "version": 2
   },
   "file_extension": ".py",
   "mimetype": "text/x-python",
   "name": "python",
   "nbconvert_exporter": "python",
   "pygments_lexer": "ipython2",
   "version": "2.7.6"
  }
 },
 "nbformat": 4,
 "nbformat_minor": 5
}
