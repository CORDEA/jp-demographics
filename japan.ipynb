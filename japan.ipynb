{
 "cells": [
  {
   "cell_type": "markdown",
   "source": [
    "# Japanese demographics"
   ],
   "metadata": {
    "collapsed": false
   },
   "id": "3fa0a24881f81202"
  },
  {
   "cell_type": "code",
   "outputs": [],
   "source": [
    "import os\n",
    "\n",
    "APP_ID = os.environ['APP_ID']\n",
    "LANG = 'J'\n",
    "BASE_URL = 'https://api.e-stat.go.jp/rest/3.0/app/json/getStatsData?appId={id}&lang={lang}'.format(id=APP_ID,\n",
    "                                                                                                    lang=LANG)"
   ],
   "metadata": {
    "collapsed": true,
    "ExecuteTime": {
     "end_time": "2024-02-12T08:26:25.008961Z",
     "start_time": "2024-02-12T08:26:25.002143Z"
    }
   },
   "id": "initial_id",
   "execution_count": 4
  },
  {
   "cell_type": "code",
   "outputs": [
    {
     "data": {
      "text/plain": "     Type       Year  Unit      Value\n0     出生数 2021-01-01     人  811622.00\n1     出生数 2020-01-01     人  840835.00\n2     出生数 2019-01-01     人  865239.00\n3     出生数 2018-01-01     人  918400.00\n4     出生数 2017-01-01     人  946146.00\n...   ...        ...   ...        ...\n3235  離婚率 1903-01-01  人口千対       1.44\n3236  離婚率 1902-01-01  人口千対       1.43\n3237  離婚率 1901-01-01  人口千対       1.43\n3238  離婚率 1900-01-01  人口千対       1.46\n3239  離婚率 1899-01-01  人口千対       1.53\n\n[3240 rows x 4 columns]",
      "text/html": "<div>\n<style scoped>\n    .dataframe tbody tr th:only-of-type {\n        vertical-align: middle;\n    }\n\n    .dataframe tbody tr th {\n        vertical-align: top;\n    }\n\n    .dataframe thead th {\n        text-align: right;\n    }\n</style>\n<table border=\"1\" class=\"dataframe\">\n  <thead>\n    <tr style=\"text-align: right;\">\n      <th></th>\n      <th>Type</th>\n      <th>Year</th>\n      <th>Unit</th>\n      <th>Value</th>\n    </tr>\n  </thead>\n  <tbody>\n    <tr>\n      <th>0</th>\n      <td>出生数</td>\n      <td>2021-01-01</td>\n      <td>人</td>\n      <td>811622.00</td>\n    </tr>\n    <tr>\n      <th>1</th>\n      <td>出生数</td>\n      <td>2020-01-01</td>\n      <td>人</td>\n      <td>840835.00</td>\n    </tr>\n    <tr>\n      <th>2</th>\n      <td>出生数</td>\n      <td>2019-01-01</td>\n      <td>人</td>\n      <td>865239.00</td>\n    </tr>\n    <tr>\n      <th>3</th>\n      <td>出生数</td>\n      <td>2018-01-01</td>\n      <td>人</td>\n      <td>918400.00</td>\n    </tr>\n    <tr>\n      <th>4</th>\n      <td>出生数</td>\n      <td>2017-01-01</td>\n      <td>人</td>\n      <td>946146.00</td>\n    </tr>\n    <tr>\n      <th>...</th>\n      <td>...</td>\n      <td>...</td>\n      <td>...</td>\n      <td>...</td>\n    </tr>\n    <tr>\n      <th>3235</th>\n      <td>離婚率</td>\n      <td>1903-01-01</td>\n      <td>人口千対</td>\n      <td>1.44</td>\n    </tr>\n    <tr>\n      <th>3236</th>\n      <td>離婚率</td>\n      <td>1902-01-01</td>\n      <td>人口千対</td>\n      <td>1.43</td>\n    </tr>\n    <tr>\n      <th>3237</th>\n      <td>離婚率</td>\n      <td>1901-01-01</td>\n      <td>人口千対</td>\n      <td>1.43</td>\n    </tr>\n    <tr>\n      <th>3238</th>\n      <td>離婚率</td>\n      <td>1900-01-01</td>\n      <td>人口千対</td>\n      <td>1.46</td>\n    </tr>\n    <tr>\n      <th>3239</th>\n      <td>離婚率</td>\n      <td>1899-01-01</td>\n      <td>人口千対</td>\n      <td>1.53</td>\n    </tr>\n  </tbody>\n</table>\n<p>3240 rows × 4 columns</p>\n</div>"
     },
     "execution_count": 5,
     "metadata": {},
     "output_type": "execute_result"
    }
   ],
   "source": [
    "import requests\n",
    "import pandas\n",
    "from datetime import datetime\n",
    "\n",
    "json = requests.get('{url}&statsDataId=0003411561'.format(url=BASE_URL)).json()\n",
    "stats = json['GET_STATS_DATA']['STATISTICAL_DATA']\n",
    "labels = stats['CLASS_INF']['CLASS_OBJ']\n",
    "labelMap = {label['@id']: {l['@code']: l['@name'] for l in label['CLASS']} for label in labels}\n",
    "data = stats['DATA_INF']['VALUE']\n",
    "for d in data:\n",
    "    d['@cat01'] = labelMap['cat01'][d['@cat01']]\n",
    "    d['@time'] = datetime.strptime(labelMap['time'][d['@time']], '%Y年')\n",
    "df = pandas.DataFrame(data)\n",
    "df = df.rename(columns={'@cat01': 'Type', '@time': 'Year', '@unit': 'Unit', '$': 'Value'})\n",
    "df['Value'] = df['Value'].apply(pandas.to_numeric, errors='coerce')\n",
    "df"
   ],
   "metadata": {
    "collapsed": false,
    "ExecuteTime": {
     "end_time": "2024-02-12T08:26:25.362870Z",
     "start_time": "2024-02-12T08:26:25.008417Z"
    }
   },
   "id": "d5b59ffe08d37c38",
   "execution_count": 5
  },
  {
   "cell_type": "code",
   "outputs": [
    {
     "data": {
      "text/plain": "          Year Unit      Value\n0   2021-01-01    人   811622.0\n1   2020-01-01    人   840835.0\n2   2019-01-01    人   865239.0\n3   2018-01-01    人   918400.0\n4   2017-01-01    人   946146.0\n..         ...  ...        ...\n115 1903-01-01    人  1489816.0\n116 1902-01-01    人  1510835.0\n117 1901-01-01    人  1501591.0\n118 1900-01-01    人  1420534.0\n119 1899-01-01    人  1386981.0\n\n[120 rows x 3 columns]",
      "text/html": "<div>\n<style scoped>\n    .dataframe tbody tr th:only-of-type {\n        vertical-align: middle;\n    }\n\n    .dataframe tbody tr th {\n        vertical-align: top;\n    }\n\n    .dataframe thead th {\n        text-align: right;\n    }\n</style>\n<table border=\"1\" class=\"dataframe\">\n  <thead>\n    <tr style=\"text-align: right;\">\n      <th></th>\n      <th>Year</th>\n      <th>Unit</th>\n      <th>Value</th>\n    </tr>\n  </thead>\n  <tbody>\n    <tr>\n      <th>0</th>\n      <td>2021-01-01</td>\n      <td>人</td>\n      <td>811622.0</td>\n    </tr>\n    <tr>\n      <th>1</th>\n      <td>2020-01-01</td>\n      <td>人</td>\n      <td>840835.0</td>\n    </tr>\n    <tr>\n      <th>2</th>\n      <td>2019-01-01</td>\n      <td>人</td>\n      <td>865239.0</td>\n    </tr>\n    <tr>\n      <th>3</th>\n      <td>2018-01-01</td>\n      <td>人</td>\n      <td>918400.0</td>\n    </tr>\n    <tr>\n      <th>4</th>\n      <td>2017-01-01</td>\n      <td>人</td>\n      <td>946146.0</td>\n    </tr>\n    <tr>\n      <th>...</th>\n      <td>...</td>\n      <td>...</td>\n      <td>...</td>\n    </tr>\n    <tr>\n      <th>115</th>\n      <td>1903-01-01</td>\n      <td>人</td>\n      <td>1489816.0</td>\n    </tr>\n    <tr>\n      <th>116</th>\n      <td>1902-01-01</td>\n      <td>人</td>\n      <td>1510835.0</td>\n    </tr>\n    <tr>\n      <th>117</th>\n      <td>1901-01-01</td>\n      <td>人</td>\n      <td>1501591.0</td>\n    </tr>\n    <tr>\n      <th>118</th>\n      <td>1900-01-01</td>\n      <td>人</td>\n      <td>1420534.0</td>\n    </tr>\n    <tr>\n      <th>119</th>\n      <td>1899-01-01</td>\n      <td>人</td>\n      <td>1386981.0</td>\n    </tr>\n  </tbody>\n</table>\n<p>120 rows × 3 columns</p>\n</div>"
     },
     "execution_count": 6,
     "metadata": {},
     "output_type": "execute_result"
    }
   ],
   "source": [
    "df[df['Type'] == '出生数'].drop('Type', axis=1)"
   ],
   "metadata": {
    "collapsed": false,
    "ExecuteTime": {
     "end_time": "2024-02-12T08:26:25.367938Z",
     "start_time": "2024-02-12T08:26:25.361282Z"
    }
   },
   "id": "f59e387c3d9e6b90",
   "execution_count": 6
  },
  {
   "cell_type": "markdown",
   "source": [],
   "metadata": {
    "collapsed": false
   },
   "id": "e5aabffc5f797e69"
  }
 ],
 "metadata": {
  "kernelspec": {
   "display_name": "Python 3",
   "language": "python",
   "name": "python3"
  },
  "language_info": {
   "codemirror_mode": {
    "name": "ipython",
    "version": 2
   },
   "file_extension": ".py",
   "mimetype": "text/x-python",
   "name": "python",
   "nbconvert_exporter": "python",
   "pygments_lexer": "ipython2",
   "version": "2.7.6"
  }
 },
 "nbformat": 4,
 "nbformat_minor": 5
}
